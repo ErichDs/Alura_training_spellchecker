{
  "nbformat": 4,
  "nbformat_minor": 0,
  "metadata": {
    "colab": {
      "name": "Spell Checker.ipynb",
      "provenance": [],
      "collapsed_sections": [],
      "authorship_tag": "ABX9TyM7K5mwTWH6u7Mw8HJ9QOKx"
    },
    "kernelspec": {
      "name": "python3",
      "display_name": "Python 3"
    },
    "language_info": {
      "name": "python"
    }
  },
  "cells": [
    {
      "cell_type": "markdown",
      "metadata": {
        "id": "Kq3QKYd63NjX"
      },
      "source": [
        "# Spell Checker"
      ]
    },
    {
      "cell_type": "markdown",
      "metadata": {
        "id": "hVX8YyKr3QYm"
      },
      "source": [
        "## Loading data to build the vocabulary"
      ]
    },
    {
      "cell_type": "code",
      "metadata": {
        "colab": {
          "base_uri": "https://localhost:8080/"
        },
        "id": "Bm8tbuMr4fU2",
        "outputId": "81eed88f-54ec-402d-8479-287cb0d3cc75"
      },
      "source": [
        "with open('artigos.txt', 'r') as f:\n",
        "  articles = f.read()\n",
        "\n",
        "print(articles[:500])"
      ],
      "execution_count": 45,
      "outputs": [
        {
          "output_type": "stream",
          "text": [
            "\n",
            "\n",
            "\n",
            "imagem \n",
            "\n",
            "Temos a seguinte classe que representa um usuário no nosso sistema:\n",
            "\n",
            "java\n",
            "\n",
            "Para salvar um novo usuário, várias validações são feitas, como por exemplo: Ver se o nome só contém letras, [**o CPF só números**] e ver se o usuário possui no mínimo 18 anos. Veja o método que faz essa validação:\n",
            "\n",
            "java \n",
            "\n",
            "Suponha agora que eu tenha outra classe, a classe `Produto`, que contém um atributo nome e eu quero fazer a mesma validação que fiz para o nome do usuário: Ver se só contém letras. E aí? Vou\n"
          ],
          "name": "stdout"
        }
      ]
    },
    {
      "cell_type": "code",
      "metadata": {
        "colab": {
          "base_uri": "https://localhost:8080/"
        },
        "id": "QTUnhCRq66uH",
        "outputId": "637c16c7-7a27-40c2-ceca-3327d380d59b"
      },
      "source": [
        "len(articles)"
      ],
      "execution_count": 46,
      "outputs": [
        {
          "output_type": "execute_result",
          "data": {
            "text/plain": [
              "2605046"
            ]
          },
          "metadata": {
            "tags": []
          },
          "execution_count": 46
        }
      ]
    },
    {
      "cell_type": "code",
      "metadata": {
        "colab": {
          "base_uri": "https://localhost:8080/"
        },
        "id": "RtnCwIsU9x_f",
        "outputId": "80e69c8b-4702-4825-cd06-48910b515b1d"
      },
      "source": [
        "len('Olá')"
      ],
      "execution_count": 47,
      "outputs": [
        {
          "output_type": "execute_result",
          "data": {
            "text/plain": [
              "3"
            ]
          },
          "metadata": {
            "tags": []
          },
          "execution_count": 47
        }
      ]
    },
    {
      "cell_type": "code",
      "metadata": {
        "colab": {
          "base_uri": "https://localhost:8080/"
        },
        "id": "1ujKXvug94P2",
        "outputId": "f2d54e2f-3cf2-4968-cc61-620b9597c9df"
      },
      "source": [
        "sample_text = 'Olá, tudo bem?'\n",
        "tokens = sample_text.split()\n",
        "print(tokens)"
      ],
      "execution_count": 48,
      "outputs": [
        {
          "output_type": "stream",
          "text": [
            "['Olá,', 'tudo', 'bem?']\n"
          ],
          "name": "stdout"
        }
      ]
    },
    {
      "cell_type": "code",
      "metadata": {
        "colab": {
          "base_uri": "https://localhost:8080/"
        },
        "id": "YSAJm1lr-NIG",
        "outputId": "cc99ccb5-6ccd-47e8-b8db-fff9ac423fd5"
      },
      "source": [
        "print(len(tokens))"
      ],
      "execution_count": 49,
      "outputs": [
        {
          "output_type": "stream",
          "text": [
            "3\n"
          ],
          "name": "stdout"
        }
      ]
    },
    {
      "cell_type": "markdown",
      "metadata": {
        "id": "aMRBxjt53YZF"
      },
      "source": [
        "## Tokenizing text & normalizing"
      ]
    },
    {
      "cell_type": "code",
      "metadata": {
        "colab": {
          "base_uri": "https://localhost:8080/"
        },
        "id": "HpQ34F40DIA3",
        "outputId": "dd12f222-6849-4886-d862-588b27cfddb3"
      },
      "source": [
        "import nltk\n",
        "nltk.download('punkt')"
      ],
      "execution_count": 50,
      "outputs": [
        {
          "output_type": "stream",
          "text": [
            "[nltk_data] Downloading package punkt to /root/nltk_data...\n",
            "[nltk_data]   Package punkt is already up-to-date!\n"
          ],
          "name": "stdout"
        },
        {
          "output_type": "execute_result",
          "data": {
            "text/plain": [
              "True"
            ]
          },
          "metadata": {
            "tags": []
          },
          "execution_count": 50
        }
      ]
    },
    {
      "cell_type": "code",
      "metadata": {
        "colab": {
          "base_uri": "https://localhost:8080/"
        },
        "id": "dZDJA5B--Xzu",
        "outputId": "195f8b59-cd61-42b1-9759-903ac770d570"
      },
      "source": [
        "splitted_words = nltk.tokenize.word_tokenize(sample_text)\n",
        "print(splitted_words)"
      ],
      "execution_count": 51,
      "outputs": [
        {
          "output_type": "stream",
          "text": [
            "['Olá', ',', 'tudo', 'bem', '?']\n"
          ],
          "name": "stdout"
        }
      ]
    },
    {
      "cell_type": "code",
      "metadata": {
        "colab": {
          "base_uri": "https://localhost:8080/"
        },
        "id": "eMOAUQy1Cpim",
        "outputId": "afdb0ca0-df84-4c5a-f409-3a2eaa9c6ec6"
      },
      "source": [
        "len(splitted_words)"
      ],
      "execution_count": 52,
      "outputs": [
        {
          "output_type": "execute_result",
          "data": {
            "text/plain": [
              "5"
            ]
          },
          "metadata": {
            "tags": []
          },
          "execution_count": 52
        }
      ]
    },
    {
      "cell_type": "code",
      "metadata": {
        "colab": {
          "base_uri": "https://localhost:8080/"
        },
        "id": "xjlK_30pD76k",
        "outputId": "e923fde5-fdf1-470f-8ad9-fd9d1c40ccca"
      },
      "source": [
        "'palavra'.isalpha()"
      ],
      "execution_count": 53,
      "outputs": [
        {
          "output_type": "execute_result",
          "data": {
            "text/plain": [
              "True"
            ]
          },
          "metadata": {
            "tags": []
          },
          "execution_count": 53
        }
      ]
    },
    {
      "cell_type": "code",
      "metadata": {
        "colab": {
          "base_uri": "https://localhost:8080/"
        },
        "id": "YXeEWncsDnpl",
        "outputId": "3b0322ec-ffe6-4316-d019-7a4822a64ad8"
      },
      "source": [
        "def split_words(tokens_list):\n",
        "  words_list = []\n",
        "  for token in tokens_list:\n",
        "    if token.isalpha():\n",
        "      words_list.append(token)\n",
        "  return words_list\n",
        "\n",
        "split_words(splitted_words)"
      ],
      "execution_count": 54,
      "outputs": [
        {
          "output_type": "execute_result",
          "data": {
            "text/plain": [
              "['Olá', 'tudo', 'bem']"
            ]
          },
          "metadata": {
            "tags": []
          },
          "execution_count": 54
        }
      ]
    },
    {
      "cell_type": "code",
      "metadata": {
        "colab": {
          "base_uri": "https://localhost:8080/"
        },
        "id": "-REjcuJOGUkM",
        "outputId": "479072b6-d8be-40f9-9dfe-554cc981d3d0"
      },
      "source": [
        "tokens_list = nltk.tokenize.word_tokenize(articles)\n",
        "words_list = split_words(tokens_list)\n",
        "print(f\"O número de palavras é: {len(words_list)}\")"
      ],
      "execution_count": 55,
      "outputs": [
        {
          "output_type": "stream",
          "text": [
            "O número de palavras é: 393914\n"
          ],
          "name": "stdout"
        }
      ]
    },
    {
      "cell_type": "code",
      "metadata": {
        "colab": {
          "base_uri": "https://localhost:8080/"
        },
        "id": "Kkhc6ptgRPzv",
        "outputId": "45487a2f-e4a4-47e3-babf-879aa8d4b72a"
      },
      "source": [
        "print(words_list[:5])"
      ],
      "execution_count": 56,
      "outputs": [
        {
          "output_type": "stream",
          "text": [
            "['imagem', 'Temos', 'a', 'seguinte', 'classe']\n"
          ],
          "name": "stdout"
        }
      ]
    },
    {
      "cell_type": "code",
      "metadata": {
        "id": "SPTVJhzJTIAu"
      },
      "source": [
        "def normalization(word_list):\n",
        "  normalized_list = []\n",
        "  for word in word_list:\n",
        "    normalized_list.append(word.lower()) \n",
        "  return normalized_list"
      ],
      "execution_count": 57,
      "outputs": []
    },
    {
      "cell_type": "code",
      "metadata": {
        "id": "10edSka_TiLW"
      },
      "source": [
        "normalized_list = normalization(words_list)"
      ],
      "execution_count": 58,
      "outputs": []
    },
    {
      "cell_type": "code",
      "metadata": {
        "colab": {
          "base_uri": "https://localhost:8080/"
        },
        "id": "R62uy-aaTnd-",
        "outputId": "eb4e35ad-275d-480e-a789-a233ae2559f2"
      },
      "source": [
        "print(normalized_list[:5])"
      ],
      "execution_count": 59,
      "outputs": [
        {
          "output_type": "stream",
          "text": [
            "['imagem', 'temos', 'a', 'seguinte', 'classe']\n"
          ],
          "name": "stdout"
        }
      ]
    },
    {
      "cell_type": "code",
      "metadata": {
        "colab": {
          "base_uri": "https://localhost:8080/"
        },
        "id": "gMige3iyTqYO",
        "outputId": "b549b776-bf7f-43e2-a965-4d6c84ac008a"
      },
      "source": [
        "len(set(normalized_list))"
      ],
      "execution_count": 64,
      "outputs": [
        {
          "output_type": "execute_result",
          "data": {
            "text/plain": [
              "17652"
            ]
          },
          "metadata": {
            "tags": []
          },
          "execution_count": 64
        }
      ]
    },
    {
      "cell_type": "markdown",
      "metadata": {
        "id": "vNAuaKuY3q3t"
      },
      "source": [
        "## 1st spellchecker implementation"
      ]
    },
    {
      "cell_type": "code",
      "metadata": {
        "colab": {
          "base_uri": "https://localhost:8080/"
        },
        "id": "lAyZrCVWYINk",
        "outputId": "8bd1a5e2-f0ce-437e-b610-2163de83cb11"
      },
      "source": [
        "lst = 'lgica'\n",
        "(lst[:1], lst[1:])"
      ],
      "execution_count": 61,
      "outputs": [
        {
          "output_type": "execute_result",
          "data": {
            "text/plain": [
              "('l', 'gica')"
            ]
          },
          "metadata": {
            "tags": []
          },
          "execution_count": 61
        }
      ]
    },
    {
      "cell_type": "code",
      "metadata": {
        "colab": {
          "base_uri": "https://localhost:8080/"
        },
        "id": "F3CmbXsvWrLl",
        "outputId": "4c6c40c4-9dce-493f-d9de-b33ee4628cf7"
      },
      "source": [
        "sample_word = 'lgica'\n",
        "\n",
        "def insert_letters(slices):\n",
        "  new_words = []\n",
        "  letters = 'abcdefghijklmnopqrstuvwxyzàáâãèéêìíîòóôõùúûç'\n",
        "  for L, R in slices:\n",
        "    for letter in letters:\n",
        "      new_words.append(L + letter + R)\n",
        "  return new_words\n",
        "\n",
        "\n",
        "def words_generator(word):\n",
        "  slices = []\n",
        "  for i in range(len(word) + 1):\n",
        "    slices.append((word[:i], word[i:]))\n",
        "  generated_words = insert_letters(slices)\n",
        "  return generated_words\n",
        "\n",
        "new_words_generated = word_generator(sample_word)\n",
        "print(new_words_generated)"
      ],
      "execution_count": 82,
      "outputs": [
        {
          "output_type": "stream",
          "text": [
            "['algica', 'blgica', 'clgica', 'dlgica', 'elgica', 'flgica', 'glgica', 'hlgica', 'ilgica', 'jlgica', 'klgica', 'llgica', 'mlgica', 'nlgica', 'olgica', 'plgica', 'qlgica', 'rlgica', 'slgica', 'tlgica', 'ulgica', 'vlgica', 'wlgica', 'xlgica', 'ylgica', 'zlgica', 'àlgica', 'álgica', 'âlgica', 'ãlgica', 'èlgica', 'élgica', 'êlgica', 'ìlgica', 'ílgica', 'îlgica', 'òlgica', 'ólgica', 'ôlgica', 'õlgica', 'ùlgica', 'úlgica', 'ûlgica', 'çlgica', 'lagica', 'lbgica', 'lcgica', 'ldgica', 'legica', 'lfgica', 'lggica', 'lhgica', 'ligica', 'ljgica', 'lkgica', 'llgica', 'lmgica', 'lngica', 'logica', 'lpgica', 'lqgica', 'lrgica', 'lsgica', 'ltgica', 'lugica', 'lvgica', 'lwgica', 'lxgica', 'lygica', 'lzgica', 'làgica', 'lágica', 'lâgica', 'lãgica', 'lègica', 'légica', 'lêgica', 'lìgica', 'lígica', 'lîgica', 'lògica', 'lógica', 'lôgica', 'lõgica', 'lùgica', 'lúgica', 'lûgica', 'lçgica', 'lgaica', 'lgbica', 'lgcica', 'lgdica', 'lgeica', 'lgfica', 'lggica', 'lghica', 'lgiica', 'lgjica', 'lgkica', 'lglica', 'lgmica', 'lgnica', 'lgoica', 'lgpica', 'lgqica', 'lgrica', 'lgsica', 'lgtica', 'lguica', 'lgvica', 'lgwica', 'lgxica', 'lgyica', 'lgzica', 'lgàica', 'lgáica', 'lgâica', 'lgãica', 'lgèica', 'lgéica', 'lgêica', 'lgìica', 'lgíica', 'lgîica', 'lgòica', 'lgóica', 'lgôica', 'lgõica', 'lgùica', 'lgúica', 'lgûica', 'lgçica', 'lgiaca', 'lgibca', 'lgicca', 'lgidca', 'lgieca', 'lgifca', 'lgigca', 'lgihca', 'lgiica', 'lgijca', 'lgikca', 'lgilca', 'lgimca', 'lginca', 'lgioca', 'lgipca', 'lgiqca', 'lgirca', 'lgisca', 'lgitca', 'lgiuca', 'lgivca', 'lgiwca', 'lgixca', 'lgiyca', 'lgizca', 'lgiàca', 'lgiáca', 'lgiâca', 'lgiãca', 'lgièca', 'lgiéca', 'lgiêca', 'lgiìca', 'lgiíca', 'lgiîca', 'lgiòca', 'lgióca', 'lgiôca', 'lgiõca', 'lgiùca', 'lgiúca', 'lgiûca', 'lgiçca', 'lgicaa', 'lgicba', 'lgicca', 'lgicda', 'lgicea', 'lgicfa', 'lgicga', 'lgicha', 'lgicia', 'lgicja', 'lgicka', 'lgicla', 'lgicma', 'lgicna', 'lgicoa', 'lgicpa', 'lgicqa', 'lgicra', 'lgicsa', 'lgicta', 'lgicua', 'lgicva', 'lgicwa', 'lgicxa', 'lgicya', 'lgicza', 'lgicàa', 'lgicáa', 'lgicâa', 'lgicãa', 'lgicèa', 'lgicéa', 'lgicêa', 'lgicìa', 'lgicía', 'lgicîa', 'lgicòa', 'lgicóa', 'lgicôa', 'lgicõa', 'lgicùa', 'lgicúa', 'lgicûa', 'lgicça', 'lgicaa', 'lgicab', 'lgicac', 'lgicad', 'lgicae', 'lgicaf', 'lgicag', 'lgicah', 'lgicai', 'lgicaj', 'lgicak', 'lgical', 'lgicam', 'lgican', 'lgicao', 'lgicap', 'lgicaq', 'lgicar', 'lgicas', 'lgicat', 'lgicau', 'lgicav', 'lgicaw', 'lgicax', 'lgicay', 'lgicaz', 'lgicaà', 'lgicaá', 'lgicaâ', 'lgicaã', 'lgicaè', 'lgicaé', 'lgicaê', 'lgicaì', 'lgicaí', 'lgicaî', 'lgicaò', 'lgicaó', 'lgicaô', 'lgicaõ', 'lgicaù', 'lgicaú', 'lgicaû', 'lgicaç']\n"
          ],
          "name": "stdout"
        }
      ]
    },
    {
      "cell_type": "code",
      "metadata": {
        "id": "D7eXT7l-_Fx0"
      },
      "source": [
        "## using global variables to improve speed of the program.\n",
        "## only training"
      ],
      "execution_count": 69,
      "outputs": []
    },
    {
      "cell_type": "code",
      "metadata": {
        "id": "AYrsq7qd-HaK"
      },
      "source": [
        "freq = nltk.FreqDist(normalized_list)\n",
        "freq.most_common(10)\n",
        "words_total = len(normalized_list)"
      ],
      "execution_count": 71,
      "outputs": []
    },
    {
      "cell_type": "code",
      "metadata": {
        "id": "fgGM0zg3-T7l"
      },
      "source": [
        "freq[\"lógica\"]"
      ],
      "execution_count": null,
      "outputs": []
    },
    {
      "cell_type": "code",
      "metadata": {
        "id": "X3ziEfFC-c2N"
      },
      "source": [
        "def probabilityCalc(generated_word):\n",
        "  return freq[generated_word] / words_total"
      ],
      "execution_count": 74,
      "outputs": []
    },
    {
      "cell_type": "code",
      "metadata": {
        "id": "vdg158B1a1u-"
      },
      "source": [
        "def checker(word):\n",
        "  generated_words = words_generator(word)\n",
        "  correct_word = max(generated_words, key = probabilityCalc)\n",
        "  return correct_word"
      ],
      "execution_count": 86,
      "outputs": []
    },
    {
      "cell_type": "code",
      "metadata": {
        "colab": {
          "base_uri": "https://localhost:8080/"
        },
        "id": "uNDuNPxo_tSv",
        "outputId": "225b1cfd-56d0-4e63-adcd-6c6f8b24fd5f"
      },
      "source": [
        "probabilityCalc('lógica')"
      ],
      "execution_count": 80,
      "outputs": [
        {
          "output_type": "execute_result",
          "data": {
            "text/plain": [
              "0.00022086039084673304"
            ]
          },
          "metadata": {
            "tags": []
          },
          "execution_count": 80
        }
      ]
    },
    {
      "cell_type": "code",
      "metadata": {
        "colab": {
          "base_uri": "https://localhost:8080/",
          "height": 35
        },
        "id": "DoYeG8Cy_6qf",
        "outputId": "a62f4299-2fc9-4c97-d931-7c988928837b"
      },
      "source": [
        "checker(sample_word)"
      ],
      "execution_count": 94,
      "outputs": [
        {
          "output_type": "execute_result",
          "data": {
            "application/vnd.google.colaboratory.intrinsic+json": {
              "type": "string"
            },
            "text/plain": [
              "'alogicaa'"
            ]
          },
          "metadata": {
            "tags": []
          },
          "execution_count": 94
        }
      ]
    },
    {
      "cell_type": "code",
      "metadata": {
        "colab": {
          "base_uri": "https://localhost:8080/",
          "height": 35
        },
        "id": "IBzIgmMeAj9z",
        "outputId": "bd41a8b1-633c-466c-89d1-60e48305c82b"
      },
      "source": [
        "checker('programi')"
      ],
      "execution_count": 98,
      "outputs": [
        {
          "output_type": "execute_result",
          "data": {
            "application/vnd.google.colaboratory.intrinsic+json": {
              "type": "string"
            },
            "text/plain": [
              "'aprogrami'"
            ]
          },
          "metadata": {
            "tags": []
          },
          "execution_count": 98
        }
      ]
    },
    {
      "cell_type": "markdown",
      "metadata": {
        "id": "cwkFsBvy4C2y"
      },
      "source": [
        "## Evaluating results"
      ]
    },
    {
      "cell_type": "code",
      "metadata": {
        "id": "L317HfQLUXCO"
      },
      "source": [
        "def generate_test_data(filename):\n",
        "  words_test_list = []\n",
        "  f = open(filename, 'r')\n",
        "  for line in f:\n",
        "    correct, wrong = line.split()\n",
        "    words_test_list.append((correct, wrong))\n",
        "  f.close()\n",
        "  return words_test_list\n",
        "\n",
        "test_list = generate_test_data('palavras.txt')\n",
        "test_list"
      ],
      "execution_count": null,
      "outputs": []
    },
    {
      "cell_type": "code",
      "metadata": {
        "colab": {
          "base_uri": "https://localhost:8080/"
        },
        "id": "-AOSBLsvKhAz",
        "outputId": "2284fccd-8728-4a2f-e031-9d83ae14cb36"
      },
      "source": [
        "def evaluator(tests):\n",
        "  word_count = len(tests)\n",
        "  hit = 0\n",
        "  for correct, wrong in tests:\n",
        "    fixed_word = checker(wrong)\n",
        "    if fixed_word == correct:\n",
        "      hit += 1\n",
        "  hit_rate = round((hit*100/word_count), 2)\n",
        "  print(f\"Hit rate: {hit_rate}% of {word_count} words.\")\n",
        "\n",
        "evaluator(test_list)"
      ],
      "execution_count": 102,
      "outputs": [
        {
          "output_type": "stream",
          "text": [
            "Hit rate: 1.08% of 186 words.\n"
          ],
          "name": "stdout"
        }
      ]
    },
    {
      "cell_type": "markdown",
      "metadata": {
        "id": "LedVNwvJ4Ljw"
      },
      "source": [
        "## Improving performance, new approach to the spellchecker"
      ]
    },
    {
      "cell_type": "code",
      "metadata": {
        "id": "uhdJctqBaoiJ"
      },
      "source": [
        "def delete_character(slices):\n",
        "  new_words = []\n",
        "  for L, R in slices:\n",
        "    new_words.append(L + R[1:])\n",
        "  return new_words"
      ],
      "execution_count": 104,
      "outputs": []
    },
    {
      "cell_type": "code",
      "metadata": {
        "colab": {
          "base_uri": "https://localhost:8080/"
        },
        "id": "hxBKVuDFhvHB",
        "outputId": "cab2ddec-5320-4669-df2f-9bd89d97bcc2"
      },
      "source": [
        "def words_generator(word):\n",
        "  slices = []\n",
        "  for i in range(len(word) + 1):\n",
        "    slices.append((word[:i], word[i:]))\n",
        "  generated_words = insert_letters(slices)\n",
        "  generated_words += delete_character(slices)\n",
        "  return generated_words\n",
        "\n",
        "sample_word = 'lóigica'\n",
        "new_words_generated = word_generator(sample_word)\n",
        "print(new_words_generated)"
      ],
      "execution_count": 109,
      "outputs": [
        {
          "output_type": "stream",
          "text": [
            "['alóigica', 'blóigica', 'clóigica', 'dlóigica', 'elóigica', 'flóigica', 'glóigica', 'hlóigica', 'ilóigica', 'jlóigica', 'klóigica', 'llóigica', 'mlóigica', 'nlóigica', 'olóigica', 'plóigica', 'qlóigica', 'rlóigica', 'slóigica', 'tlóigica', 'ulóigica', 'vlóigica', 'wlóigica', 'xlóigica', 'ylóigica', 'zlóigica', 'àlóigica', 'álóigica', 'âlóigica', 'ãlóigica', 'èlóigica', 'élóigica', 'êlóigica', 'ìlóigica', 'ílóigica', 'îlóigica', 'òlóigica', 'ólóigica', 'ôlóigica', 'õlóigica', 'ùlóigica', 'úlóigica', 'ûlóigica', 'çlóigica', 'laóigica', 'lbóigica', 'lcóigica', 'ldóigica', 'leóigica', 'lfóigica', 'lgóigica', 'lhóigica', 'lióigica', 'ljóigica', 'lkóigica', 'llóigica', 'lmóigica', 'lnóigica', 'loóigica', 'lpóigica', 'lqóigica', 'lróigica', 'lsóigica', 'ltóigica', 'luóigica', 'lvóigica', 'lwóigica', 'lxóigica', 'lyóigica', 'lzóigica', 'làóigica', 'láóigica', 'lâóigica', 'lãóigica', 'lèóigica', 'léóigica', 'lêóigica', 'lìóigica', 'líóigica', 'lîóigica', 'lòóigica', 'lóóigica', 'lôóigica', 'lõóigica', 'lùóigica', 'lúóigica', 'lûóigica', 'lçóigica', 'lóaigica', 'lóbigica', 'lócigica', 'lódigica', 'lóeigica', 'lófigica', 'lógigica', 'lóhigica', 'lóiigica', 'lójigica', 'lókigica', 'lóligica', 'lómigica', 'lónigica', 'lóoigica', 'lópigica', 'lóqigica', 'lórigica', 'lósigica', 'lótigica', 'lóuigica', 'lóvigica', 'lówigica', 'lóxigica', 'lóyigica', 'lózigica', 'lóàigica', 'lóáigica', 'lóâigica', 'lóãigica', 'lóèigica', 'lóéigica', 'lóêigica', 'lóìigica', 'lóíigica', 'lóîigica', 'lóòigica', 'lóóigica', 'lóôigica', 'lóõigica', 'lóùigica', 'lóúigica', 'lóûigica', 'lóçigica', 'lóiagica', 'lóibgica', 'lóicgica', 'lóidgica', 'lóiegica', 'lóifgica', 'lóiggica', 'lóihgica', 'lóiigica', 'lóijgica', 'lóikgica', 'lóilgica', 'lóimgica', 'lóingica', 'lóiogica', 'lóipgica', 'lóiqgica', 'lóirgica', 'lóisgica', 'lóitgica', 'lóiugica', 'lóivgica', 'lóiwgica', 'lóixgica', 'lóiygica', 'lóizgica', 'lóiàgica', 'lóiágica', 'lóiâgica', 'lóiãgica', 'lóiègica', 'lóiégica', 'lóiêgica', 'lóiìgica', 'lóiígica', 'lóiîgica', 'lóiògica', 'lóiógica', 'lóiôgica', 'lóiõgica', 'lóiùgica', 'lóiúgica', 'lóiûgica', 'lóiçgica', 'lóigaica', 'lóigbica', 'lóigcica', 'lóigdica', 'lóigeica', 'lóigfica', 'lóiggica', 'lóighica', 'lóigiica', 'lóigjica', 'lóigkica', 'lóiglica', 'lóigmica', 'lóignica', 'lóigoica', 'lóigpica', 'lóigqica', 'lóigrica', 'lóigsica', 'lóigtica', 'lóiguica', 'lóigvica', 'lóigwica', 'lóigxica', 'lóigyica', 'lóigzica', 'lóigàica', 'lóigáica', 'lóigâica', 'lóigãica', 'lóigèica', 'lóigéica', 'lóigêica', 'lóigìica', 'lóigíica', 'lóigîica', 'lóigòica', 'lóigóica', 'lóigôica', 'lóigõica', 'lóigùica', 'lóigúica', 'lóigûica', 'lóigçica', 'lóigiaca', 'lóigibca', 'lóigicca', 'lóigidca', 'lóigieca', 'lóigifca', 'lóigigca', 'lóigihca', 'lóigiica', 'lóigijca', 'lóigikca', 'lóigilca', 'lóigimca', 'lóiginca', 'lóigioca', 'lóigipca', 'lóigiqca', 'lóigirca', 'lóigisca', 'lóigitca', 'lóigiuca', 'lóigivca', 'lóigiwca', 'lóigixca', 'lóigiyca', 'lóigizca', 'lóigiàca', 'lóigiáca', 'lóigiâca', 'lóigiãca', 'lóigièca', 'lóigiéca', 'lóigiêca', 'lóigiìca', 'lóigiíca', 'lóigiîca', 'lóigiòca', 'lóigióca', 'lóigiôca', 'lóigiõca', 'lóigiùca', 'lóigiúca', 'lóigiûca', 'lóigiçca', 'lóigicaa', 'lóigicba', 'lóigicca', 'lóigicda', 'lóigicea', 'lóigicfa', 'lóigicga', 'lóigicha', 'lóigicia', 'lóigicja', 'lóigicka', 'lóigicla', 'lóigicma', 'lóigicna', 'lóigicoa', 'lóigicpa', 'lóigicqa', 'lóigicra', 'lóigicsa', 'lóigicta', 'lóigicua', 'lóigicva', 'lóigicwa', 'lóigicxa', 'lóigicya', 'lóigicza', 'lóigicàa', 'lóigicáa', 'lóigicâa', 'lóigicãa', 'lóigicèa', 'lóigicéa', 'lóigicêa', 'lóigicìa', 'lóigicía', 'lóigicîa', 'lóigicòa', 'lóigicóa', 'lóigicôa', 'lóigicõa', 'lóigicùa', 'lóigicúa', 'lóigicûa', 'lóigicça', 'lóigicaa', 'lóigicab', 'lóigicac', 'lóigicad', 'lóigicae', 'lóigicaf', 'lóigicag', 'lóigicah', 'lóigicai', 'lóigicaj', 'lóigicak', 'lóigical', 'lóigicam', 'lóigican', 'lóigicao', 'lóigicap', 'lóigicaq', 'lóigicar', 'lóigicas', 'lóigicat', 'lóigicau', 'lóigicav', 'lóigicaw', 'lóigicax', 'lóigicay', 'lóigicaz', 'lóigicaà', 'lóigicaá', 'lóigicaâ', 'lóigicaã', 'lóigicaè', 'lóigicaé', 'lóigicaê', 'lóigicaì', 'lóigicaí', 'lóigicaî', 'lóigicaò', 'lóigicaó', 'lóigicaô', 'lóigicaõ', 'lóigicaù', 'lóigicaú', 'lóigicaû', 'lóigicaç']\n"
          ],
          "name": "stdout"
        }
      ]
    },
    {
      "cell_type": "code",
      "metadata": {
        "colab": {
          "base_uri": "https://localhost:8080/"
        },
        "id": "P9roGUxmjKbn",
        "outputId": "774e7cc1-5704-4b13-da95-dc68bd90732e"
      },
      "source": [
        "evaluator(test_list)"
      ],
      "execution_count": 110,
      "outputs": [
        {
          "output_type": "stream",
          "text": [
            "Hit rate: 41.4% of 186 words.\n"
          ],
          "name": "stdout"
        }
      ]
    },
    {
      "cell_type": "markdown",
      "metadata": {
        "id": "toUdDTrI4YTZ"
      },
      "source": [
        "# 2nd improvement & new approaches for the spellchecker"
      ]
    },
    {
      "cell_type": "code",
      "metadata": {
        "id": "OXw3ddipjO1y"
      },
      "source": [
        "def insert_letters(slices):\n",
        "  new_words = []\n",
        "  letters = 'abcdefghijklmnopqrstuvwxyzáâàãéêèẽíîìĩóôõòúûùũç'\n",
        "  for L, R in slices:\n",
        "    for letter in letters:\n",
        "      new_words.append(L + letter + R)\n",
        "  return new_words\n",
        "\n",
        "\n",
        "def delete_character(slices):\n",
        "  new_words = []\n",
        "  for L, R in slices:\n",
        "    new_words.append(L + R[1:])\n",
        "  return new_words\n",
        "\n",
        "\n",
        "def change_letter(slices):\n",
        "  new_words = []\n",
        "  letters = 'abcdefghijklmnopqrstuvwxyzáâàãéêèẽíîìĩóôõòúûùũç'\n",
        "  for L, R in slices:\n",
        "    for letter in letters:\n",
        "      new_words.append(L + letter + R[1:])\n",
        "  return new_words\n",
        "\n",
        "\n",
        "def letter_inverter(slices):\n",
        "  new_words = []\n",
        "  for L, R in slices:\n",
        "    if len(R) > 1:\n",
        "      new_words.append(L + R[1] + R[0] + R[2:])\n",
        "  return new_words\n",
        "\n",
        "\n",
        "def words_generator(word):\n",
        "  slices = []\n",
        "  for i in range(len(word) + 1):\n",
        "    slices.append((word[:i], word[i:]))\n",
        "  generated_words = insert_letters(slices)\n",
        "  generated_words += delete_character(slices)\n",
        "  generated_words += change_letter(slices)\n",
        "  generated_words += letter_inverter(slices)\n",
        "  return generated_words"
      ],
      "execution_count": 136,
      "outputs": []
    },
    {
      "cell_type": "code",
      "metadata": {
        "colab": {
          "base_uri": "https://localhost:8080/"
        },
        "id": "jXLjf_unmuz2",
        "outputId": "6dbf9a68-2f7d-4f42-e4e9-03df72f78acc"
      },
      "source": [
        "sample_word = 'lgóica'\n",
        "new_words_generated = word_generator(sample_word)\n",
        "print(new_words_generated)"
      ],
      "execution_count": 137,
      "outputs": [
        {
          "output_type": "stream",
          "text": [
            "['algóica', 'blgóica', 'clgóica', 'dlgóica', 'elgóica', 'flgóica', 'glgóica', 'hlgóica', 'ilgóica', 'jlgóica', 'klgóica', 'llgóica', 'mlgóica', 'nlgóica', 'olgóica', 'plgóica', 'qlgóica', 'rlgóica', 'slgóica', 'tlgóica', 'ulgóica', 'vlgóica', 'wlgóica', 'xlgóica', 'ylgóica', 'zlgóica', 'álgóica', 'âlgóica', 'àlgóica', 'ãlgóica', 'élgóica', 'êlgóica', 'èlgóica', 'ẽlgóica', 'ílgóica', 'îlgóica', 'ìlgóica', 'ĩlgóica', 'ólgóica', 'ôlgóica', 'õlgóica', 'òlgóica', 'úlgóica', 'ûlgóica', 'ùlgóica', 'ũlgóica', 'çlgóica', 'lagóica', 'lbgóica', 'lcgóica', 'ldgóica', 'legóica', 'lfgóica', 'lggóica', 'lhgóica', 'ligóica', 'ljgóica', 'lkgóica', 'llgóica', 'lmgóica', 'lngóica', 'logóica', 'lpgóica', 'lqgóica', 'lrgóica', 'lsgóica', 'ltgóica', 'lugóica', 'lvgóica', 'lwgóica', 'lxgóica', 'lygóica', 'lzgóica', 'lágóica', 'lâgóica', 'làgóica', 'lãgóica', 'légóica', 'lêgóica', 'lègóica', 'lẽgóica', 'lígóica', 'lîgóica', 'lìgóica', 'lĩgóica', 'lógóica', 'lôgóica', 'lõgóica', 'lògóica', 'lúgóica', 'lûgóica', 'lùgóica', 'lũgóica', 'lçgóica', 'lgaóica', 'lgbóica', 'lgcóica', 'lgdóica', 'lgeóica', 'lgfóica', 'lggóica', 'lghóica', 'lgióica', 'lgjóica', 'lgkóica', 'lglóica', 'lgmóica', 'lgnóica', 'lgoóica', 'lgpóica', 'lgqóica', 'lgróica', 'lgsóica', 'lgtóica', 'lguóica', 'lgvóica', 'lgwóica', 'lgxóica', 'lgyóica', 'lgzóica', 'lgáóica', 'lgâóica', 'lgàóica', 'lgãóica', 'lgéóica', 'lgêóica', 'lgèóica', 'lgẽóica', 'lgíóica', 'lgîóica', 'lgìóica', 'lgĩóica', 'lgóóica', 'lgôóica', 'lgõóica', 'lgòóica', 'lgúóica', 'lgûóica', 'lgùóica', 'lgũóica', 'lgçóica', 'lgóaica', 'lgóbica', 'lgócica', 'lgódica', 'lgóeica', 'lgófica', 'lgógica', 'lgóhica', 'lgóiica', 'lgójica', 'lgókica', 'lgólica', 'lgómica', 'lgónica', 'lgóoica', 'lgópica', 'lgóqica', 'lgórica', 'lgósica', 'lgótica', 'lgóuica', 'lgóvica', 'lgówica', 'lgóxica', 'lgóyica', 'lgózica', 'lgóáica', 'lgóâica', 'lgóàica', 'lgóãica', 'lgóéica', 'lgóêica', 'lgóèica', 'lgóẽica', 'lgóíica', 'lgóîica', 'lgóìica', 'lgóĩica', 'lgóóica', 'lgóôica', 'lgóõica', 'lgóòica', 'lgóúica', 'lgóûica', 'lgóùica', 'lgóũica', 'lgóçica', 'lgóiaca', 'lgóibca', 'lgóicca', 'lgóidca', 'lgóieca', 'lgóifca', 'lgóigca', 'lgóihca', 'lgóiica', 'lgóijca', 'lgóikca', 'lgóilca', 'lgóimca', 'lgóinca', 'lgóioca', 'lgóipca', 'lgóiqca', 'lgóirca', 'lgóisca', 'lgóitca', 'lgóiuca', 'lgóivca', 'lgóiwca', 'lgóixca', 'lgóiyca', 'lgóizca', 'lgóiáca', 'lgóiâca', 'lgóiàca', 'lgóiãca', 'lgóiéca', 'lgóiêca', 'lgóièca', 'lgóiẽca', 'lgóiíca', 'lgóiîca', 'lgóiìca', 'lgóiĩca', 'lgóióca', 'lgóiôca', 'lgóiõca', 'lgóiòca', 'lgóiúca', 'lgóiûca', 'lgóiùca', 'lgóiũca', 'lgóiçca', 'lgóicaa', 'lgóicba', 'lgóicca', 'lgóicda', 'lgóicea', 'lgóicfa', 'lgóicga', 'lgóicha', 'lgóicia', 'lgóicja', 'lgóicka', 'lgóicla', 'lgóicma', 'lgóicna', 'lgóicoa', 'lgóicpa', 'lgóicqa', 'lgóicra', 'lgóicsa', 'lgóicta', 'lgóicua', 'lgóicva', 'lgóicwa', 'lgóicxa', 'lgóicya', 'lgóicza', 'lgóicáa', 'lgóicâa', 'lgóicàa', 'lgóicãa', 'lgóicéa', 'lgóicêa', 'lgóicèa', 'lgóicẽa', 'lgóicía', 'lgóicîa', 'lgóicìa', 'lgóicĩa', 'lgóicóa', 'lgóicôa', 'lgóicõa', 'lgóicòa', 'lgóicúa', 'lgóicûa', 'lgóicùa', 'lgóicũa', 'lgóicça', 'lgóicaa', 'lgóicab', 'lgóicac', 'lgóicad', 'lgóicae', 'lgóicaf', 'lgóicag', 'lgóicah', 'lgóicai', 'lgóicaj', 'lgóicak', 'lgóical', 'lgóicam', 'lgóican', 'lgóicao', 'lgóicap', 'lgóicaq', 'lgóicar', 'lgóicas', 'lgóicat', 'lgóicau', 'lgóicav', 'lgóicaw', 'lgóicax', 'lgóicay', 'lgóicaz', 'lgóicaá', 'lgóicaâ', 'lgóicaà', 'lgóicaã', 'lgóicaé', 'lgóicaê', 'lgóicaè', 'lgóicaẽ', 'lgóicaí', 'lgóicaî', 'lgóicaì', 'lgóicaĩ', 'lgóicaó', 'lgóicaô', 'lgóicaõ', 'lgóicaò', 'lgóicaú', 'lgóicaû', 'lgóicaù', 'lgóicaũ', 'lgóicaç']\n"
          ],
          "name": "stdout"
        }
      ]
    },
    {
      "cell_type": "markdown",
      "metadata": {
        "id": "SZ4ADeia4mdt"
      },
      "source": [
        "## New Evaluator"
      ]
    },
    {
      "cell_type": "code",
      "metadata": {
        "colab": {
          "base_uri": "https://localhost:8080/"
        },
        "id": "fcaeSEDvs8GW",
        "outputId": "04a956e3-c79f-4639-ffc8-c896322acb86"
      },
      "source": [
        "def evaluator(tests, vocabulary):\n",
        "  word_count = len(tests)\n",
        "  hit = 0\n",
        "  unknown = 0\n",
        "  for correct, wrong in tests:\n",
        "    fixed_word = checker(wrong)\n",
        "    if fixed_word == correct:\n",
        "      hit += 1\n",
        "    else:\n",
        "      unknown += (correct not in vocabulary)\n",
        "  hit_rate = round((hit * 100 / word_count), 2)\n",
        "  unknown_rate = round((unknown * 100 / word_count), 2)\n",
        "  print(f\"Hit rating: {hit_rate}% of {word_count} words, unknown words rating: {unknown_rate}%.\")\n",
        "\n",
        "vocabulary = set(normalized_list)\n",
        "evaluator(test_list, vocabulary)"
      ],
      "execution_count": 138,
      "outputs": [
        {
          "output_type": "stream",
          "text": [
            "Hit rating: 76.34% of 186 words, unknown words rating: 6.99%.\n"
          ],
          "name": "stdout"
        }
      ]
    },
    {
      "cell_type": "markdown",
      "metadata": {
        "id": "eoD8TDj04o7_"
      },
      "source": [
        "## Boost attempt to spellchecker"
      ]
    },
    {
      "cell_type": "code",
      "metadata": {
        "id": "5A8W_T0bvEK4"
      },
      "source": [
        "def boosted_words_generator(generated_words):\n",
        "  new_words = []\n",
        "  for word in generated_words:\n",
        "    new_words += words_generator(word)\n",
        "  return new_words"
      ],
      "execution_count": 139,
      "outputs": []
    },
    {
      "cell_type": "code",
      "metadata": {
        "colab": {
          "base_uri": "https://localhost:8080/"
        },
        "id": "2ICq7AkmwEil",
        "outputId": "8bc0a7ce-6ddf-411c-f409-bd14b2c77765"
      },
      "source": [
        "word = 'lóiigica'\n",
        "\n",
        "g_words = boosted_words_generator(words_generator(word))\n",
        "\"lógica\" in g_words"
      ],
      "execution_count": 140,
      "outputs": [
        {
          "output_type": "execute_result",
          "data": {
            "text/plain": [
              "True"
            ]
          },
          "metadata": {
            "tags": []
          },
          "execution_count": 140
        }
      ]
    },
    {
      "cell_type": "code",
      "metadata": {
        "colab": {
          "base_uri": "https://localhost:8080/"
        },
        "id": "sCeow-2dwVyU",
        "outputId": "cfa2b156-0832-4c9a-bd4b-7e9623e15694"
      },
      "source": [
        "len(g_words)"
      ],
      "execution_count": 141,
      "outputs": [
        {
          "output_type": "execute_result",
          "data": {
            "text/plain": [
              "787396"
            ]
          },
          "metadata": {
            "tags": []
          },
          "execution_count": 141
        }
      ]
    },
    {
      "cell_type": "code",
      "metadata": {
        "id": "vgXBdxGGwcNr"
      },
      "source": [
        "def new_checker(word):\n",
        "  generated_words = words_generator(word)\n",
        "  boosted_words = boosted_words_generator(generated_words)\n",
        "  all_words = set(generated_words + boosted_words)\n",
        "  candidates = [word]\n",
        "  for word in all_words:\n",
        "    if word in vocabulary:\n",
        "      candidates.append(word)\n",
        "  correct_word = max(candidates, key = probabilityCalc)\n",
        "  return correct_word"
      ],
      "execution_count": 142,
      "outputs": []
    },
    {
      "cell_type": "code",
      "metadata": {
        "colab": {
          "base_uri": "https://localhost:8080/",
          "height": 52
        },
        "id": "NRU8eQBOzThv",
        "outputId": "66ceaf7d-12c5-4ad6-ff48-dc0d562f30d2"
      },
      "source": [
        "new_checker(word)"
      ],
      "execution_count": 135,
      "outputs": [
        {
          "output_type": "stream",
          "text": [
            "2\n"
          ],
          "name": "stdout"
        },
        {
          "output_type": "execute_result",
          "data": {
            "application/vnd.google.colaboratory.intrinsic+json": {
              "type": "string"
            },
            "text/plain": [
              "'lógica'"
            ]
          },
          "metadata": {
            "tags": []
          },
          "execution_count": 135
        }
      ]
    },
    {
      "cell_type": "markdown",
      "metadata": {
        "id": "aSCGdOXA4vCv"
      },
      "source": [
        "## Checking Results: new Evaluator & spellchecker vs Old"
      ]
    },
    {
      "cell_type": "code",
      "metadata": {
        "id": "TfAzu1I0zW6y"
      },
      "source": [
        "def evaluator(tests, vocabulary):\n",
        "  word_count = len(tests)\n",
        "  hit = 0\n",
        "  unknown = 0\n",
        "  for correct, wrong in tests:\n",
        "    fixed_word = new_checker(wrong)\n",
        "    unknown += (correct not in vocabulary)\n",
        "    if fixed_word == correct:\n",
        "      hit += 1\n",
        "    # else:\n",
        "    #   print(wrong + \"-\" + checker(wrong) + \"-\" + fixed_word)\n",
        "  hit_rate = round((hit * 100 / word_count), 2)\n",
        "  unknown_rate = round((unknown * 100 / word_count), 2)\n",
        "  print(f\"Hit rating: {hit_rate}% of {word_count} words, unknown words rating: {unknown_rate}%.\")\n",
        "\n",
        "vocabulary = set(normalized_list)\n",
        "evaluator(test_list, vocabulary)"
      ],
      "execution_count": null,
      "outputs": []
    },
    {
      "cell_type": "code",
      "metadata": {
        "colab": {
          "base_uri": "https://localhost:8080/"
        },
        "id": "G9sRhmGN0mkE",
        "outputId": "3567644c-cd11-4f6f-caf8-d0e6a011beb0"
      },
      "source": [
        "def evaluator(tests, vocabulary):\n",
        "  word_count = len(tests)\n",
        "  hit = 0\n",
        "  unknown = 0\n",
        "  for correct, wrong in tests:\n",
        "    fixed_word = checker(wrong)\n",
        "    unknown += (correct not in vocabulary)\n",
        "    if fixed_word == correct:\n",
        "      hit += 1\n",
        "  hit_rate = round((hit * 100 / word_count), 2)\n",
        "  unknown_rate = round((unknown * 100 / word_count), 2)\n",
        "  print(f\"Hit rating: {hit_rate}% of {word_count} words, unknown words rating: {unknown_rate}%.\")\n",
        "\n",
        "vocabulary = set(normalized_list)\n",
        "evaluator(test_list, vocabulary)"
      ],
      "execution_count": 146,
      "outputs": [
        {
          "output_type": "stream",
          "text": [
            "Hit rating: 76.34% of 186 words, unknown words rating: 6.99%.\n"
          ],
          "name": "stdout"
        }
      ]
    },
    {
      "cell_type": "code",
      "metadata": {
        "colab": {
          "base_uri": "https://localhost:8080/"
        },
        "id": "AQu2omon2ru_",
        "outputId": "42835fde-12fb-4938-9d1d-bae6c44738f8"
      },
      "source": [
        "word = \"lóiigica\"\n",
        "print(new_checker(word))\n",
        "print(checker(word))"
      ],
      "execution_count": 149,
      "outputs": [
        {
          "output_type": "stream",
          "text": [
            "lógica\n",
            "alóiigica\n"
          ],
          "name": "stdout"
        }
      ]
    },
    {
      "cell_type": "code",
      "metadata": {
        "id": "DtQsKcsd27Xi"
      },
      "source": [
        ""
      ],
      "execution_count": null,
      "outputs": []
    }
  ]
}